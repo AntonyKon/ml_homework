{
 "cells": [
  {
   "cell_type": "code",
   "execution_count": null,
   "metadata": {
    "collapsed": false,
    "jupyter": {
     "outputs_hidden": false
    },
    "pycharm": {
     "is_executing": true,
     "name": "#%%\n"
    }
   },
   "outputs": [],
   "source": [
    "!pip install kaggle-environments==1.14.17 numpy pandas seaborn matplotlib"
   ]
  },
  {
   "cell_type": "code",
   "execution_count": 2,
   "metadata": {
    "pycharm": {
     "name": "#%%\n"
    }
   },
   "outputs": [],
   "source": [
    "import random\n",
    "from collections import defaultdict\n",
    "from math import sqrt, floor\n",
    "import numpy as np\n",
    "import pandas as pd\n",
    "import itertools\n",
    "\n",
    "import matplotlib.pyplot as plt\n",
    "import seaborn as sns\n",
    "\n",
    "from kaggle_environments import make"
   ]
  },
  {
   "cell_type": "markdown",
   "metadata": {
    "pycharm": {
     "name": "#%% md\n"
    }
   },
   "source": [
    "Фиксация генераторов рандомных величин из модулей random и библиотеки numpy"
   ]
  },
  {
   "cell_type": "code",
   "execution_count": 3,
   "metadata": {
    "pycharm": {
     "name": "#%%\n"
    }
   },
   "outputs": [],
   "source": [
    "random.seed(\"rps\")\n",
    "np.random.seed(1452342)"
   ]
  },
  {
   "cell_type": "code",
   "execution_count": null,
   "outputs": [],
   "source": [
    "Создание агентов для игры в камень-ножницы-бумага"
   ],
   "metadata": {
    "collapsed": false,
    "pycharm": {
     "name": "#%%\n"
    }
   }
  },
  {
   "cell_type": "code",
   "execution_count": 4,
   "metadata": {
    "pycharm": {
     "name": "#%%\n"
    }
   },
   "outputs": [],
   "source": [
    "def rock_agent(observation, configuration):\n",
    "    \"\"\"\n",
    "    Агент, который всегда играет \"камнем\"\n",
    "    \"\"\"\n",
    "    return 0\n",
    "\n",
    "\n",
    "def paper_agent(observation, configuration):\n",
    "    \"\"\"\n",
    "    Агент, который всегда играет \"бумагой\"\n",
    "    \"\"\"\n",
    "    return 1\n",
    "\n",
    "\n",
    "def scissors_agent(observation, configuration):\n",
    "    \"\"\"\n",
    "    Агент, который всегда играет \"ножницами\"\n",
    "    \"\"\"\n",
    "    return 2\n",
    "\n",
    "\n",
    "def copy_opponent_agent(observation, configuration):\n",
    "    \"\"\"\n",
    "    Агент, который копирует фигуру оппонента на предыдущем ходу. На первом ходу выбирает случайную фигуру\n",
    "    \"\"\"\n",
    "    if observation.step > 0:\n",
    "        return observation.lastOpponentAction\n",
    "    else:\n",
    "        return random.randrange(0, configuration.signs)\n",
    "\n",
    "\n",
    "def inversed_copy_opponent_agent(observation, configuration):\n",
    "    \"\"\"\n",
    "    Агент, который выбирает фигуру, бьющую фигуру оппонента на предыдущем шаге\n",
    "    \"\"\"\n",
    "    if observation.step > 0:\n",
    "        return (observation.lastOpponentAction + 1) % configuration.signs\n",
    "    else:\n",
    "        return random.randrange(0, configuration.signs)\n",
    "\n",
    "\n",
    "def strict_order_agent(observation, configuration):\n",
    "    \"\"\"\n",
    "    Агент, который выбирает фигуры в строгом порядке - \"камень-бумага-ножницы-камень-бумага...\"\n",
    "    \"\"\"\n",
    "    previous_agent_step = observation.step % configuration.signs\n",
    "    return previous_agent_step\n",
    "\n",
    "\n",
    "def random_agent(observation, configuration):\n",
    "    \"\"\"\n",
    "    Агент, который на каждом шаге выбирает случайную фигуру\n",
    "    \"\"\"\n",
    "    return random.randrange(0, configuration.signs)\n",
    "\n",
    "\n",
    "action_map = defaultdict(int)\n",
    "\n",
    "\n",
    "def adaptive_agent(observation, configuration):\n",
    "    \"\"\"\n",
    "    Агент, который на каждом ходу определяет наиболее часто используемую фигуру и выбирает противоположную ей.\n",
    "    Пример: если наиболее часто используемая фигура - \"камень\", то агент выберет бумагу\n",
    "    \"\"\"\n",
    "    if observation.step == 0:\n",
    "        return 0\n",
    "    else:\n",
    "        action_map[observation.lastOpponentAction] += 1\n",
    "        most_used_action = max(action_map.items(), key=lambda item: item[1])[0]\n",
    "        opposite_action = (most_used_action + 1) % configuration.signs\n",
    "        return opposite_action\n",
    "\n",
    "\n",
    "def random_exclusive_agent(observation, configuration):\n",
    "    \"\"\"\n",
    "    Агент, который выбирает случайную фигуру из списка всех позможных фигур, исключая фигуру оппонента на последнем ходу\n",
    "    \"\"\"\n",
    "    if observation.step == 0:\n",
    "        return 0\n",
    "    used_action = observation.lastOpponentAction\n",
    "    list_of_actions: list[int] = list(range(0, configuration.signs))\n",
    "    list_of_actions.remove(used_action)\n",
    "    print(list_of_actions)\n",
    "    return random.choice(list_of_actions)\n",
    "\n",
    "\n",
    "def fibonacci_agent(observation, configuration):\n",
    "    \"\"\"\n",
    "    Агент, который определяет n-ое число Фибоначчи на n-ом ходу вычисляет остаток от деления на это число\n",
    "    \"\"\"\n",
    "    def fibonacci(n):\n",
    "        a, b = 0, 1\n",
    "        for i in range(n):\n",
    "            a, b = b, a + b\n",
    "        return a\n",
    "\n",
    "    return fibonacci(observation.step) % configuration.signs\n",
    "\n",
    "\n",
    "def sqrt_agent(observation, configuration):\n",
    "    \"\"\"\n",
    "    Агент, который вычисляет фигуру на n-ном ходу по формуле\n",
    "\n",
    "    .. math::\n",
    "        f(n) = floor(\\sqrt{n}) % N,\n",
    "    где :math:`N` - кол-во всех возможных фигур\n",
    "    \"\"\"\n",
    "    return floor(sqrt(observation.step) % configuration.signs)\n",
    "\n",
    "\n",
    "def poisson_agent(observation, configuration):\n",
    "    \"\"\"\n",
    "    Агент, который определяет n-ное число из распределения Пуассона на n-ном ходу и находит остаток от деления на кол-во возможных фигур\n",
    "    \"\"\"\n",
    "    return int(\n",
    "        np.random.poisson(configuration.signs, configuration.episodeSteps + 1)[observation.step] % configuration.signs\n",
    "    )"
   ]
  },
  {
   "cell_type": "markdown",
   "metadata": {
    "pycharm": {
     "name": "#%% md\n"
    }
   },
   "source": [
    "Определим список соревнующихся агентов"
   ]
  },
  {
   "cell_type": "code",
   "execution_count": 5,
   "metadata": {
    "pycharm": {
     "name": "#%%\n"
    }
   },
   "outputs": [],
   "source": [
    "agents = [\n",
    "    copy_opponent_agent,\n",
    "    inversed_copy_opponent_agent,\n",
    "    rock_agent,\n",
    "    paper_agent,\n",
    "    scissors_agent,\n",
    "    strict_order_agent,\n",
    "    random_agent,\n",
    "    adaptive_agent,\n",
    "    random_exclusive_agent,\n",
    "    fibonacci_agent,\n",
    "    sqrt_agent,\n",
    "    poisson_agent\n",
    "]"
   ]
  },
  {
   "cell_type": "markdown",
   "metadata": {
    "pycharm": {
     "name": "#%% md\n"
    }
   },
   "source": [
    "Зададим структуру для хранением статистики и инициализруем окружение kaggle-environments"
   ]
  },
  {
   "cell_type": "code",
   "execution_count": 6,
   "metadata": {
    "pycharm": {
     "name": "#%%\n"
    }
   },
   "outputs": [],
   "source": [
    "env = make(\n",
    "    \"rps\",  # environment to use - no need to change\n",
    "    configuration={\"episodeSteps\": 100}  # number of episodes\n",
    ")\n",
    "statistic = defaultdict(int)"
   ]
  },
  {
   "cell_type": "markdown",
   "metadata": {
    "pycharm": {
     "name": "#%% md\n"
    }
   },
   "source": [
    "Определим функции для расчета побед и поражений"
   ]
  },
  {
   "cell_type": "code",
   "execution_count": 8,
   "metadata": {
    "pycharm": {
     "name": "#%%\n"
    }
   },
   "outputs": [],
   "source": [
    "def calculate_result_for_agents(action1, action2):\n",
    "    diff = abs(action1 - action2)\n",
    "    if diff == 1:\n",
    "        return action1 - action2\n",
    "    else:\n",
    "        return -(action1 - action2) // 2\n",
    "\n",
    "\n",
    "def process_step_results(steps):\n",
    "    game_results = tuple(map(lambda step: calculate_result_for_agents(step[0]['action'], step[1]['action']), steps))\n",
    "    return game_results.count(1), game_results.count(-1)\n",
    "\n",
    "\n",
    "def format_func_name(name):\n",
    "    return name.replace(\"_\", \"\\n\")"
   ]
  },
  {
   "cell_type": "code",
   "execution_count": 10,
   "metadata": {
    "pycharm": {
     "name": "#%%\n"
    }
   },
   "outputs": [
    {
     "name": "stdout",
     "output_type": "stream",
     "text": [
      "copy_opponent_agent inversed_copy_opponent_agent 0:50\n",
      "copy_opponent_agent rock_agent 0:1\n",
      "copy_opponent_agent paper_agent 0:1\n",
      "copy_opponent_agent scissors_agent 1:0\n",
      "copy_opponent_agent strict_order_agent 0:98\n",
      "copy_opponent_agent random_agent 34:28\n",
      "copy_opponent_agent adaptive_agent 0:20\n",
      "copy_opponent_agent random_exclusive_agent 35:30\n",
      "copy_opponent_agent fibonacci_agent 37:37\n",
      "copy_opponent_agent sqrt_agent 0:10\n",
      "copy_opponent_agent poisson_agent 32:23\n",
      "inversed_copy_opponent_agent rock_agent 98:0\n",
      "inversed_copy_opponent_agent paper_agent 98:1\n",
      "inversed_copy_opponent_agent scissors_agent 98:0\n",
      "inversed_copy_opponent_agent strict_order_agent 0:1\n",
      "inversed_copy_opponent_agent random_agent 37:32\n",
      "inversed_copy_opponent_agent adaptive_agent 78:21\n",
      "inversed_copy_opponent_agent random_exclusive_agent 21:30\n",
      "inversed_copy_opponent_agent fibonacci_agent 26:36\n",
      "inversed_copy_opponent_agent sqrt_agent 89:0\n",
      "inversed_copy_opponent_agent poisson_agent 33:37\n",
      "rock_agent paper_agent 0:99\n",
      "rock_agent scissors_agent 99:0\n",
      "rock_agent strict_order_agent 33:33\n",
      "rock_agent random_agent 40:31\n",
      "rock_agent adaptive_agent 0:98\n",
      "rock_agent random_exclusive_agent 46:52\n",
      "rock_agent fibonacci_agent 36:38\n",
      "rock_agent sqrt_agent 33:27\n",
      "rock_agent poisson_agent 31:39\n",
      "paper_agent scissors_agent 0:99\n",
      "paper_agent strict_order_agent 33:33\n",
      "paper_agent random_agent 35:35\n",
      "paper_agent adaptive_agent 1:98\n",
      "paper_agent random_exclusive_agent 44:55\n",
      "paper_agent fibonacci_agent 25:36\n",
      "paper_agent sqrt_agent 39:33\n",
      "paper_agent poisson_agent 33:39\n",
      "scissors_agent strict_order_agent 33:33\n",
      "scissors_agent random_agent 28:42\n",
      "scissors_agent adaptive_agent 0:99\n",
      "scissors_agent random_exclusive_agent 51:48\n",
      "scissors_agent fibonacci_agent 38:25\n",
      "scissors_agent sqrt_agent 27:39\n",
      "scissors_agent poisson_agent 39:26\n",
      "strict_order_agent random_agent 31:38\n",
      "strict_order_agent adaptive_agent 33:32\n",
      "strict_order_agent random_exclusive_agent 0:44\n",
      "strict_order_agent fibonacci_agent 33:32\n",
      "strict_order_agent sqrt_agent 30:33\n",
      "strict_order_agent poisson_agent 29:40\n",
      "random_agent adaptive_agent 24:42\n",
      "random_agent random_exclusive_agent 31:45\n",
      "random_agent fibonacci_agent 34:33\n",
      "random_agent sqrt_agent 31:34\n",
      "random_agent poisson_agent 36:32\n",
      "adaptive_agent random_exclusive_agent 56:41\n",
      "adaptive_agent fibonacci_agent 23:38\n",
      "adaptive_agent sqrt_agent 32:0\n",
      "adaptive_agent poisson_agent 29:37\n",
      "random_exclusive_agent fibonacci_agent 43:21\n",
      "random_exclusive_agent sqrt_agent 54:42\n",
      "random_exclusive_agent poisson_agent 31:36\n",
      "fibonacci_agent sqrt_agent 34:32\n",
      "fibonacci_agent poisson_agent 32:39\n",
      "sqrt_agent poisson_agent 40:34\n"
     ]
    },
    {
     "data": {
      "text/html": [
       "<div>\n",
       "<style scoped>\n",
       "    .dataframe tbody tr th:only-of-type {\n",
       "        vertical-align: middle;\n",
       "    }\n",
       "\n",
       "    .dataframe tbody tr th {\n",
       "        vertical-align: top;\n",
       "    }\n",
       "\n",
       "    .dataframe thead th {\n",
       "        text-align: right;\n",
       "    }\n",
       "</style>\n",
       "<table border=\"1\" class=\"dataframe\">\n",
       "  <thead>\n",
       "    <tr style=\"text-align: right;\">\n",
       "      <th></th>\n",
       "      <th>agent</th>\n",
       "      <th>wins</th>\n",
       "    </tr>\n",
       "  </thead>\n",
       "  <tbody>\n",
       "    <tr>\n",
       "      <th>0</th>\n",
       "      <td>copy\\nopponent\\nagent</td>\n",
       "      <td>388</td>\n",
       "    </tr>\n",
       "    <tr>\n",
       "      <th>1</th>\n",
       "      <td>inversed\\ncopy\\nopponent\\nagent</td>\n",
       "      <td>1214</td>\n",
       "    </tr>\n",
       "    <tr>\n",
       "      <th>2</th>\n",
       "      <td>rock\\nagent</td>\n",
       "      <td>635</td>\n",
       "    </tr>\n",
       "    <tr>\n",
       "      <th>3</th>\n",
       "      <td>paper\\nagent</td>\n",
       "      <td>630</td>\n",
       "    </tr>\n",
       "    <tr>\n",
       "      <th>4</th>\n",
       "      <td>scissors\\nagent</td>\n",
       "      <td>617</td>\n",
       "    </tr>\n",
       "    <tr>\n",
       "      <th>5</th>\n",
       "      <td>strict\\norder\\nagent</td>\n",
       "      <td>716</td>\n",
       "    </tr>\n",
       "    <tr>\n",
       "      <th>6</th>\n",
       "      <td>random\\nagent</td>\n",
       "      <td>728</td>\n",
       "    </tr>\n",
       "    <tr>\n",
       "      <th>7</th>\n",
       "      <td>adaptive\\nagent</td>\n",
       "      <td>1101</td>\n",
       "    </tr>\n",
       "    <tr>\n",
       "      <th>8</th>\n",
       "      <td>random\\nexclusive\\nagent</td>\n",
       "      <td>911</td>\n",
       "    </tr>\n",
       "    <tr>\n",
       "      <th>9</th>\n",
       "      <td>fibonacci\\nagent</td>\n",
       "      <td>744</td>\n",
       "    </tr>\n",
       "    <tr>\n",
       "      <th>10</th>\n",
       "      <td>sqrt\\nagent</td>\n",
       "      <td>568</td>\n",
       "    </tr>\n",
       "    <tr>\n",
       "      <th>11</th>\n",
       "      <td>poisson\\nagent</td>\n",
       "      <td>731</td>\n",
       "    </tr>\n",
       "  </tbody>\n",
       "</table>\n",
       "</div>"
      ],
      "text/plain": [
       "                              agent  wins\n",
       "0             copy\\nopponent\\nagent   388\n",
       "1   inversed\\ncopy\\nopponent\\nagent  1214\n",
       "2                       rock\\nagent   635\n",
       "3                      paper\\nagent   630\n",
       "4                   scissors\\nagent   617\n",
       "5              strict\\norder\\nagent   716\n",
       "6                     random\\nagent   728\n",
       "7                   adaptive\\nagent  1101\n",
       "8          random\\nexclusive\\nagent   911\n",
       "9                  fibonacci\\nagent   744\n",
       "10                      sqrt\\nagent   568\n",
       "11                   poisson\\nagent   731"
      ]
     },
     "execution_count": 10,
     "metadata": {},
     "output_type": "execute_result"
    }
   ],
   "source": [
    "for pair in itertools.combinations(agents, r=2):\n",
    "    steps = env.run(pair)\n",
    "    action_map.clear()\n",
    "    agent1_wins, agent2_wins = process_step_results(steps)\n",
    "    print(pair[0].__name__, pair[1].__name__, f'{agent1_wins}:{agent2_wins}')\n",
    "    statistic[format_func_name(pair[0].__name__)] += agent1_wins\n",
    "    statistic[format_func_name(pair[1].__name__)] += agent2_wins\n",
    "\n",
    "statistic_frame = pd.DataFrame(statistic.items(), columns=['agent', 'wins'])\n",
    "statistic_frame"
   ]
  },
  {
   "cell_type": "markdown",
   "metadata": {
    "pycharm": {
     "name": "#%% md\n"
    }
   },
   "source": [
    "Построим графики для иллюстрации результатов"
   ]
  },
  {
   "cell_type": "code",
   "execution_count": 11,
   "metadata": {
    "pycharm": {
     "name": "#%%\n"
    }
   },
   "outputs": [
    {
     "data": {
      "image/png": "[encoded data removed]",
      "text/plain": [
       "<Figure size 1000x700 with 1 Axes>"
      ]
     },
     "metadata": {},
     "output_type": "display_data"
    }
   ],
   "source": [
    "fig, ax = plt.subplots(figsize=(10, 7))\n",
    "\n",
    "ax = sns.barplot(statistic_frame, x='agent', y='wins', hue='agent', palette='Paired', ax=ax)\n",
    "ax.set_axisbelow(True)\n",
    "ax.grid(visible=True, linestyle='-', axis='both', zorder=0)\n",
    "ax.xaxis.set_tick_params(labelsize=7)\n",
    "\n",
    "for i in ax.containers:\n",
    "    ax.bar_label(i, )"
   ]
  },
  {
   "cell_type": "code",
   "execution_count": null,
   "metadata": {
    "pycharm": {
     "name": "#%%\n"
    }
   },
   "outputs": [],
   "source": []
  }
 ],
 "metadata": {
  "kernelspec": {
   "display_name": "Python 3 (ipykernel)",
   "language": "python",
   "name": "python3"
  },
  "language_info": {
   "codemirror_mode": {
    "name": "ipython",
    "version": 3
   },
   "file_extension": ".py",
   "mimetype": "text/x-python",
   "name": "python",
   "nbconvert_exporter": "python",
   "pygments_lexer": "ipython3",
   "version": "3.10.15"
  }
 },
 "nbformat": 4,
 "nbformat_minor": 4
}